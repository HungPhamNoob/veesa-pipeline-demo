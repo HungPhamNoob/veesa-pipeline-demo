{
 "cells": [
  {
   "cell_type": "markdown",
   "id": "984283c6-7f92-43e0-805d-b8d475cfb3a3",
   "metadata": {},
   "source": [
    "# Model (Random Forest)"
   ]
  },
  {
   "cell_type": "markdown",
   "id": "c42271b9-7242-4480-81e0-2206b942613c",
   "metadata": {},
   "source": [
    "## Create response variable"
   ]
  },
  {
   "cell_type": "code",
   "execution_count": 31,
   "id": "0b3df987-bd1f-4c2a-969f-832f7fdb059f",
   "metadata": {},
   "outputs": [],
   "source": [
    "x1_train <- \n",
    "  sim_data_smooth %>% filter(dataset == \"train\") %>%\n",
    "  select(id, x1) %>%\n",
    "  distinct() %>% \n",
    "  pull(x1)"
   ]
  },
  {
   "cell_type": "code",
   "execution_count": 32,
   "id": "e612ba85-b2dd-4800-b22c-a8568f62e455",
   "metadata": {},
   "outputs": [
    {
     "data": {
      "text/html": [
       "<style>\n",
       ".list-inline {list-style: none; margin:0; padding: 0}\n",
       ".list-inline>li {display: inline-block}\n",
       ".list-inline>li:not(:last-child)::after {content: \"\\00b7\"; padding: 0 .5ex}\n",
       "</style>\n",
       "<ol class=list-inline><li>0.606605012784712</li><li>0.511808652384207</li><li>0.983724536118098</li><li>0.871356836287305</li><li>0.737623631744646</li><li>0.771558037260547</li></ol>\n"
      ],
      "text/latex": [
       "\\begin{enumerate*}\n",
       "\\item 0.606605012784712\n",
       "\\item 0.511808652384207\n",
       "\\item 0.983724536118098\n",
       "\\item 0.871356836287305\n",
       "\\item 0.737623631744646\n",
       "\\item 0.771558037260547\n",
       "\\end{enumerate*}\n"
      ],
      "text/markdown": [
       "1. 0.606605012784712\n",
       "2. 0.511808652384207\n",
       "3. 0.983724536118098\n",
       "4. 0.871356836287305\n",
       "5. 0.737623631744646\n",
       "6. 0.771558037260547\n",
       "\n",
       "\n"
      ],
      "text/plain": [
       "[1] 0.6066050 0.5118087 0.9837245 0.8713568 0.7376236 0.7715580"
      ]
     },
     "metadata": {},
     "output_type": "display_data"
    }
   ],
   "source": [
    "head(x1_train)"
   ]
  },
  {
   "cell_type": "markdown",
   "id": "0aca4dea-6425-41f5-afb6-00cb9e112cf0",
   "metadata": {},
   "source": [
    "## Create data frame with PCs and response for random forest"
   ]
  },
  {
   "cell_type": "code",
   "execution_count": 33,
   "id": "7c35fae0-d9b2-4993-ab24-9f888256aa5e",
   "metadata": {},
   "outputs": [],
   "source": [
    "rf_jfpca_df <- \n",
    "  train_transformed_jfpca$fpca_res$coef %>%\n",
    "  data.frame() %>%\n",
    "  rename_all(.funs = function(x) stringr::str_replace(x, \"X\", \"pc\")) %>%\n",
    "  mutate(x1 = x1_train) %>%\n",
    "  select(x1, everything())"
   ]
  },
  {
   "cell_type": "code",
   "execution_count": 34,
   "id": "c2cf8ecb-a3af-41b7-a53e-44189086be71",
   "metadata": {},
   "outputs": [
    {
     "name": "stdout",
     "output_type": "stream",
     "text": [
      "75 75 \n"
     ]
    }
   ],
   "source": [
    "cat(dim(train_transformed_jfpca$fpca_res$coef), \"\\n\")"
   ]
  },
  {
   "cell_type": "markdown",
   "id": "b4915fa2-7504-4a8e-9d8a-9228cc42ae2e",
   "metadata": {},
   "source": [
    "## Fit random forest"
   ]
  },
  {
   "cell_type": "code",
   "execution_count": 35,
   "id": "b260e8aa-bade-4f3a-8a91-f9224d7f12a4",
   "metadata": {},
   "outputs": [],
   "source": [
    "set.seed(36)\n",
    "rf_jfpca = randomForest(x1 ~ ., data = rf_jfpca_df)"
   ]
  },
  {
   "cell_type": "code",
   "execution_count": 61,
   "id": "079cec2c-aced-4cf4-83e1-1ee3ef515783",
   "metadata": {},
   "outputs": [
    {
     "data": {
      "text/html": [
       "500"
      ],
      "text/latex": [
       "500"
      ],
      "text/markdown": [
       "500"
      ],
      "text/plain": [
       "[1] 500"
      ]
     },
     "metadata": {},
     "output_type": "display_data"
    }
   ],
   "source": [
    "rf_jfpca$ntree"
   ]
  },
  {
   "cell_type": "markdown",
   "id": "fa8ea799-1a47-4d56-8796-ca41acb18359",
   "metadata": {},
   "source": [
    "## Evaluation"
   ]
  },
  {
   "cell_type": "code",
   "execution_count": 36,
   "id": "47f5d9bd-01f1-4c8f-84f4-efab919b6e8e",
   "metadata": {},
   "outputs": [],
   "source": [
    "x1_test <- \n",
    "  sim_data %>% \n",
    "  filter(dataset == \"test\") %>%\n",
    "  arrange(id) %>%\n",
    "  select(id, x1) %>%\n",
    "  distinct() %>% \n",
    "  pull(x1)"
   ]
  },
  {
   "cell_type": "code",
   "execution_count": 37,
   "id": "76fc3c68-eb74-4285-8f1b-7967b48ce4b0",
   "metadata": {},
   "outputs": [
    {
     "name": "stdout",
     "output_type": "stream",
     "text": [
      "x1_test: 25 | test curves: 75 \n"
     ]
    }
   ],
   "source": [
    "cat(\"x1_test:\", length(x1_test),\n",
    "    \"| test curves:\", nrow(test_transformed_jfpca$coef), \"\\n\")"
   ]
  },
  {
   "cell_type": "code",
   "execution_count": 38,
   "id": "e5373422-8c29-4eb1-a020-5d20b581553e",
   "metadata": {},
   "outputs": [],
   "source": [
    "n_rep <- nrow(test_transformed_jfpca$coef) / length(x1_test)\n",
    "x1_test_expanded <- rep(x1_test, each = n_rep)"
   ]
  },
  {
   "cell_type": "code",
   "execution_count": 39,
   "id": "296c9f66-714c-48d9-b01a-ea95e3983a92",
   "metadata": {},
   "outputs": [],
   "source": [
    "rf_test_df <- test_transformed_jfpca$coef %>%\n",
    "  data.frame() %>%\n",
    "  rename_all(~ stringr::str_replace(., \"X\", \"pc\")) %>%\n",
    "  mutate(x1 = x1_test_expanded) %>%\n",
    "  select(x1, everything())"
   ]
  },
  {
   "cell_type": "code",
   "execution_count": 40,
   "id": "5be87985-0a29-4453-a81b-b0e5a52146ac",
   "metadata": {},
   "outputs": [
    {
     "name": "stdout",
     "output_type": "stream",
     "text": [
      "✅ Prediction completed successfully! No missing PCs.\n"
     ]
    }
   ],
   "source": [
    "# Automatically add missing columns to test\n",
    "missing_cols <- setdiff(names(rf_jfpca_df), names(rf_test_df))\n",
    "\n",
    "for (col in missing_cols) {\n",
    "  rf_test_df[[col]] <- 0  \n",
    "}\n",
    "\n",
    "# Ensure correct column order (must match train data order)\n",
    "rf_test_df <- rf_test_df[, names(rf_jfpca_df), drop = FALSE]\n",
    "\n",
    "# ✅ Predict\n",
    "pred_test <- predict(rf_jfpca, newdata = rf_test_df)\n",
    "\n",
    "cat(\"✅ Prediction completed successfully! No missing PCs.\\n\")\n"
   ]
  },
  {
   "cell_type": "code",
   "execution_count": 41,
   "id": "82b863dd-646e-413f-818e-7f8d9f11f729",
   "metadata": {},
   "outputs": [
    {
     "name": "stdout",
     "output_type": "stream",
     "text": [
      "📈 NMSE: 1.7196 \n",
      "📈 R²: -0.6967 \n"
     ]
    }
   ],
   "source": [
    "nmse_test <- mean((rf_test_df$x1 - pred_test)^2) / \n",
    "             mean((rf_test_df$x1 - mean(rf_test_df$x1))^2)\n",
    "r2_test   <- 1 - mean((rf_test_df$x1 - pred_test)^2) / var(rf_test_df$x1)\n",
    "\n",
    "cat(\"📈 NMSE:\", round(nmse_test, 4), \"\\n\")\n",
    "cat(\"📈 R²:\", round(r2_test, 4), \"\\n\")"
   ]
  },
  {
   "cell_type": "code",
   "execution_count": null,
   "id": "5ffda478-0641-41bd-880d-5ab70f1fa39a",
   "metadata": {},
   "outputs": [],
   "source": []
  }
 ],
 "metadata": {
  "kernelspec": {
   "display_name": "R",
   "language": "R",
   "name": "ir"
  },
  "language_info": {
   "codemirror_mode": "r",
   "file_extension": ".r",
   "mimetype": "text/x-r-source",
   "name": "R",
   "pygments_lexer": "r",
   "version": "4.5.1"
  }
 },
 "nbformat": 4,
 "nbformat_minor": 5
}
