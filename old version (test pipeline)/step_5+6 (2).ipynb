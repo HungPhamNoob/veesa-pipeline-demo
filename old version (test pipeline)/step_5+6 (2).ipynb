{
 "cells": [
  {
   "cell_type": "markdown",
   "id": "e1d5cd9a-3441-4dcf-a2da-6e2f82870526",
   "metadata": {},
   "source": [
    "# PFI and efPC Visualization (Neural network)"
   ]
  },
  {
   "cell_type": "code",
   "execution_count": 69,
   "id": "e947689b-d86d-4f52-aaf1-84b3e265dfb5",
   "metadata": {},
   "outputs": [],
   "source": [
    "compute_pfi_nn <- function(x, y, model, K = 5, metric = \"nmse\") {\n",
    "  base_pred <- as.vector(model %>% predict(x))\n",
    "  base_loss <- mean((y - base_pred)^2)\n",
    "  \n",
    "  n_features <- ncol(x)\n",
    "  pfi_values <- numeric(n_features)\n",
    "  \n",
    "  for (i in 1:n_features) {\n",
    "    perm_losses <- numeric(K)\n",
    "    \n",
    "    for (k in 1:K) {\n",
    "      x_perm <- x\n",
    "      x_perm[, i] <- sample(x_perm[, i])  \n",
    "      \n",
    "      perm_pred <- as.vector(model %>% predict(x_perm))\n",
    "      perm_loss <- mean((y - perm_pred)^2)\n",
    "      \n",
    "      perm_losses[k] <- perm_loss\n",
    "    }\n",
    "    \n",
    "    pfi_values[i] <- mean(perm_losses) - base_loss\n",
    "  }\n",
    "  \n",
    "  if (metric == \"nmse\") {\n",
    "    pfi_values <- pfi_values / mean((y - mean(y))^2)\n",
    "  }\n",
    "  \n",
    "  names(pfi_values) <- colnames(x)\n",
    "  return(list(pfi = pfi_values))\n",
    "}\n"
   ]
  },
  {
   "cell_type": "markdown",
   "id": "fc1ab8cd-bdab-4fff-9218-54408ddfb60d",
   "metadata": {},
   "source": [
    "## Compute PFI"
   ]
  },
  {
   "cell_type": "code",
   "execution_count": 70,
   "id": "04f3626b-5b47-438b-8314-036addba3610",
   "metadata": {},
   "outputs": [],
   "source": [
    "set.seed(36)\n",
    "pfi_nn <- compute_pfi_nn(\n",
    "  x = x_test,\n",
    "  y = y_test,\n",
    "  model = nn_model,\n",
    "  K = 10,\n",
    "  metric = \"nmse\"\n",
    ")"
   ]
  },
  {
   "cell_type": "markdown",
   "id": "e7b1babb-993c-4223-9fd0-568d3fe20686",
   "metadata": {},
   "source": [
    "## PFI results (mean of reps)"
   ]
  },
  {
   "cell_type": "code",
   "execution_count": 71,
   "id": "24ed63b1-70f4-427b-8b3a-bd0b83802361",
   "metadata": {},
   "outputs": [
    {
     "name": "stdout",
     "output_type": "stream",
     "text": [
      "=== TOP 15 PRINCIPAL COMPONENTS BY PFI (Neural Network) ===\n",
      "       PC PFI_Value\n",
      "pc19 pc19 59.239897\n",
      "pc20 pc20 49.545594\n",
      "pc23 pc23 37.494040\n",
      "pc22 pc22 30.976108\n",
      "pc21 pc21 27.934012\n",
      "pc15 pc15 14.143569\n",
      "pc24 pc24  4.310457\n",
      "pc9   pc9  2.895463\n",
      "pc4   pc4  1.317507\n",
      "pc26 pc26  0.000000\n",
      "pc27 pc27  0.000000\n",
      "pc28 pc28  0.000000\n",
      "pc29 pc29  0.000000\n",
      "pc30 pc30  0.000000\n",
      "pc31 pc31  0.000000\n",
      "===========================================================\n"
     ]
    },
    {
     "data": {
      "image/png": "[encoded data removed]",
      "text/plain": [
       "plot without title"
      ]
     },
     "metadata": {
      "image/png": {
       "height": 420,
       "width": 420
      }
     },
     "output_type": "display_data"
    }
   ],
   "source": [
    "# Create a data frame from computed PFI values\n",
    "pfi_df <- data.frame(\n",
    "  PC = names(pfi_nn$pfi),   # Principal Component names (e.g., pc1, pc2, ...)\n",
    "  PFI_Value = pfi_nn$pfi    # Corresponding PFI scores\n",
    ") %>%\n",
    "  arrange(desc(PFI_Value))   # Sort PCs in descending order of importance\n",
    "\n",
    "# --- Print the top 15 PCs with the highest PFI values ---\n",
    "cat(\"=== TOP 15 PRINCIPAL COMPONENTS BY PFI (Neural Network) ===\\n\")\n",
    "print(head(pfi_df, 15))\n",
    "cat(\"===========================================================\\n\")\n",
    "\n",
    "# --- Visualize PFI values using a horizontal bar plot ---\n",
    "library(ggplot2)\n",
    "\n",
    "ggplot(head(pfi_df, 15), aes(x = reorder(PC, PFI_Value), y = PFI_Value)) +\n",
    "  geom_bar(stat = \"identity\", fill = \"#0099f9\", alpha = 0.8) +  # Blue bars\n",
    "  geom_text(aes(label = round(PFI_Value, 4)), \n",
    "            hjust = -0.1, size = 3.2, color = \"black\") +        # Value labels\n",
    "  coord_flip() +  # Flip coordinates for horizontal layout\n",
    "  labs(\n",
    "    title = \"Top 15 Principal Components by PFI (Neural Network)\",\n",
    "    subtitle = \"Permutation Feature Importance measured via NMSE increase\",\n",
    "    x = \"Principal Component\",\n",
    "    y = \"PFI Value (Normalized MSE)\"\n",
    "  ) +\n",
    "  theme_minimal(base_size = 13) +\n",
    "  theme(\n",
    "    plot.title = element_text(face = \"bold\", size = 14),\n",
    "    plot.subtitle = element_text(size = 11),\n",
    "    axis.title.x = element_text(face = \"bold\"),\n",
    "    axis.title.y = element_text(face = \"bold\")\n",
    "  )\n"
   ]
  },
  {
   "cell_type": "code",
   "execution_count": null,
   "id": "bb4fd126-ca67-4117-a318-1fcd4fa50d98",
   "metadata": {},
   "outputs": [],
   "source": []
  }
 ],
 "metadata": {
  "kernelspec": {
   "display_name": "R",
   "language": "R",
   "name": "ir"
  },
  "language_info": {
   "codemirror_mode": "r",
   "file_extension": ".r",
   "mimetype": "text/x-r-source",
   "name": "R",
   "pygments_lexer": "r",
   "version": "4.5.1"
  }
 },
 "nbformat": 4,
 "nbformat_minor": 5
}
