{
 "cells": [
  {
   "cell_type": "markdown",
   "id": "f0895d88-9a83-4211-80da-4c7519a05189",
   "metadata": {},
   "source": [
    "# Model (Neural Network)"
   ]
  },
  {
   "cell_type": "markdown",
   "id": "0f35117e-bdc5-4205-801f-6db73f5be542",
   "metadata": {},
   "source": [
    "## Create response variable"
   ]
  },
  {
   "cell_type": "code",
   "execution_count": 46,
   "id": "5f8ff6a6-1654-4adb-a87f-87cf4c813e4d",
   "metadata": {},
   "outputs": [],
   "source": [
    "x1_train <- \n",
    "  sim_data_smooth %>% filter(dataset == \"train\") %>%\n",
    "  select(id, x1) %>%\n",
    "  distinct() %>% \n",
    "  pull(x1)"
   ]
  },
  {
   "cell_type": "code",
   "execution_count": 47,
   "id": "7eb5d47b-4986-445c-8db0-16f52ffbf6e4",
   "metadata": {},
   "outputs": [
    {
     "data": {
      "text/html": [
       "<style>\n",
       ".list-inline {list-style: none; margin:0; padding: 0}\n",
       ".list-inline>li {display: inline-block}\n",
       ".list-inline>li:not(:last-child)::after {content: \"\\00b7\"; padding: 0 .5ex}\n",
       "</style>\n",
       "<ol class=list-inline><li>0.606605012784712</li><li>0.511808652384207</li><li>0.983724536118098</li><li>0.871356836287305</li><li>0.737623631744646</li><li>0.771558037260547</li></ol>\n"
      ],
      "text/latex": [
       "\\begin{enumerate*}\n",
       "\\item 0.606605012784712\n",
       "\\item 0.511808652384207\n",
       "\\item 0.983724536118098\n",
       "\\item 0.871356836287305\n",
       "\\item 0.737623631744646\n",
       "\\item 0.771558037260547\n",
       "\\end{enumerate*}\n"
      ],
      "text/markdown": [
       "1. 0.606605012784712\n",
       "2. 0.511808652384207\n",
       "3. 0.983724536118098\n",
       "4. 0.871356836287305\n",
       "5. 0.737623631744646\n",
       "6. 0.771558037260547\n",
       "\n",
       "\n"
      ],
      "text/plain": [
       "[1] 0.6066050 0.5118087 0.9837245 0.8713568 0.7376236 0.7715580"
      ]
     },
     "metadata": {},
     "output_type": "display_data"
    }
   ],
   "source": [
    "head(x1_train)"
   ]
  },
  {
   "cell_type": "markdown",
   "id": "ead223f7-865a-4f85-9f59-5d33d40b51c0",
   "metadata": {},
   "source": [
    "## Create data frame with PCs and response for neural network"
   ]
  },
  {
   "cell_type": "code",
   "execution_count": 48,
   "id": "bffbea38-6e68-4d0a-99fc-f972843356ae",
   "metadata": {},
   "outputs": [],
   "source": [
    "rf_jfpca_df <- \n",
    "  train_transformed_jfpca$fpca_res$coef %>%\n",
    "  data.frame() %>%\n",
    "  rename_all(.funs = function(x) stringr::str_replace(x, \"X\", \"pc\")) %>%\n",
    "  mutate(x1 = x1_train) %>%\n",
    "  select(x1, everything())"
   ]
  },
  {
   "cell_type": "code",
   "execution_count": 49,
   "id": "57f610b8-32bb-4ffd-9902-0fa02f571863",
   "metadata": {},
   "outputs": [
    {
     "name": "stdout",
     "output_type": "stream",
     "text": [
      "75 75 \n"
     ]
    }
   ],
   "source": [
    "cat(dim(train_transformed_jfpca$fpca_res$coef), \"\\n\")"
   ]
  },
  {
   "cell_type": "markdown",
   "id": "e21215e4-6eb2-4368-a2d0-91c5c9964c0e",
   "metadata": {},
   "source": [
    "## Fit neural network"
   ]
  },
  {
   "cell_type": "code",
   "execution_count": 64,
   "id": "9703362d-12b4-467a-96f8-abbcb487af29",
   "metadata": {},
   "outputs": [],
   "source": [
    "pcs <- names(rf_jfpca_df)[grepl(\"^pc\", names(rf_jfpca_df))]\n",
    "\n",
    "x_train <- as.matrix(rf_jfpca_df[, pcs])\n",
    "y_train <- rf_jfpca_df$x1\n",
    "x_test  <- as.matrix(rf_test_df[, pcs])\n",
    "y_test  <- rf_test_df$x1"
   ]
  },
  {
   "cell_type": "code",
   "execution_count": 65,
   "id": "b2701ecf-7a6b-4042-ab50-6b249b9a36f3",
   "metadata": {},
   "outputs": [],
   "source": [
    "x_train <- scale(x_train)\n",
    "x_test  <- scale(x_test, center = attr(x_train, \"scaled:center\"),\n",
    "                 scale = attr(x_train, \"scaled:scale\"))\n"
   ]
  },
  {
   "cell_type": "code",
   "execution_count": 66,
   "id": "fa9ad2f4-144e-444a-92a5-985784553804",
   "metadata": {},
   "outputs": [],
   "source": [
    "set.seed(36)\n",
    "nn_model <- keras_model_sequential() %>%\n",
    "  layer_dense(units = 32, activation = \"relu\", input_shape = ncol(x_train)) %>%\n",
    "  layer_dense(units = 1)  # output "
   ]
  },
  {
   "cell_type": "code",
   "execution_count": 67,
   "id": "fcb7ff53-7e30-45a6-980a-155b639b26ff",
   "metadata": {},
   "outputs": [],
   "source": [
    "nn_model %>% compile(\n",
    "  optimizer = \"adam\",\n",
    "  loss = \"mse\",\n",
    "  metrics = c(\"mae\")\n",
    ")"
   ]
  },
  {
   "cell_type": "code",
   "execution_count": 68,
   "id": "8dc818f5-bc7c-49f9-b7b4-82c7b33aa293",
   "metadata": {},
   "outputs": [],
   "source": [
    "history <- nn_model %>% fit(\n",
    "  x_train, y_train,\n",
    "  epochs = 150,\n",
    "  batch_size = 8,\n",
    "  validation_split = 0.2,\n",
    "  verbose = 1\n",
    ")"
   ]
  }
 ],
 "metadata": {
  "kernelspec": {
   "display_name": "R",
   "language": "R",
   "name": "ir"
  },
  "language_info": {
   "codemirror_mode": "r",
   "file_extension": ".r",
   "mimetype": "text/x-r-source",
   "name": "R",
   "pygments_lexer": "r",
   "version": "4.5.1"
  }
 },
 "nbformat": 4,
 "nbformat_minor": 5
}
