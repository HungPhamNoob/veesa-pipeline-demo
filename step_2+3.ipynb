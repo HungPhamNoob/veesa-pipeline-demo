{
 "cells": [
  {
   "cell_type": "markdown",
   "id": "def7b6d5-623f-453d-8bbd-3ad71cbb24f8",
   "metadata": {},
   "source": [
    "# Alignment and fPCA "
   ]
  },
  {
   "cell_type": "markdown",
   "id": "b5aba7f9-5f74-4e8f-bab5-2cb1c198e52e",
   "metadata": {},
   "source": [
    "## Prepare data"
   ]
  },
  {
   "cell_type": "code",
   "execution_count": 127,
   "id": "ca9d743e-750d-4b6f-adb0-f07ced76faae",
   "metadata": {},
   "outputs": [],
   "source": [
    "times <- unique(printer_smooth$spectra)"
   ]
  },
  {
   "cell_type": "code",
   "execution_count": 128,
   "id": "9ca39812-3539-4882-9156-1fbefd12ec5d",
   "metadata": {},
   "outputs": [
    {
     "data": {
      "text/html": [
       "75"
      ],
      "text/latex": [
       "75"
      ],
      "text/markdown": [
       "75"
      ],
      "text/plain": [
       "[1] 75"
      ]
     },
     "metadata": {},
     "output_type": "display_data"
    }
   ],
   "source": [
    "length(times)"
   ]
  },
  {
   "cell_type": "code",
   "execution_count": 129,
   "id": "4f1db46b-4ea2-472c-9626-8e8597a44b65",
   "metadata": {},
   "outputs": [],
   "source": [
    "sim_matrix <- printer_smooth %>%\n",
    "  mutate(\n",
    "    printer = as.factor(printer),\n",
    "    replicate = as.factor(replicate),\n",
    "    curve_id = paste0(\"P\", printer, \"_R\", replicate)\n",
    "  ) %>%\n",
    "  arrange(curve_id, spectra) %>%\n",
    "  select(spectra, curve_id, intensity_smooth) %>%\n",
    "  pivot_wider(\n",
    "    names_from = curve_id,\n",
    "    values_from = intensity_smooth\n",
    "  ) %>%\n",
    "  arrange(spectra) %>%\n",
    "  select(-spectra) %>%\n",
    "  as.matrix()"
   ]
  },
  {
   "cell_type": "code",
   "execution_count": 130,
   "id": "de2a50bb-76b6-4bc0-96e8-c527d33f45e4",
   "metadata": {},
   "outputs": [
    {
     "name": "stdout",
     "output_type": "stream",
     "text": [
      "Matrix size (printers × time): 75 700 \n"
     ]
    }
   ],
   "source": [
    "# Check matrix\n",
    "cat(\"Matrix size (printers × time):\", dim(sim_matrix), \"\\n\")"
   ]
  },
  {
   "cell_type": "code",
   "execution_count": 131,
   "id": "07099f2c-2fdb-4ce5-b58d-84d706cbf1e5",
   "metadata": {},
   "outputs": [
    {
     "name": "stdout",
     "output_type": "stream",
     "text": [
      "[1] \"double\"\n"
     ]
    }
   ],
   "source": [
    "print(typeof(sim_matrix))"
   ]
  },
  {
   "cell_type": "code",
   "execution_count": 132,
   "id": "ed7a3ead-c825-4428-a5f8-0e26a2bde27c",
   "metadata": {},
   "outputs": [
    {
     "data": {
      "text/html": [
       "<table class=\"dataframe\">\n",
       "<caption>A matrix: 6 × 6 of type dbl</caption>\n",
       "<thead>\n",
       "\t<tr><th scope=col>P100_R1</th><th scope=col>P100_R2</th><th scope=col>P100_R3</th><th scope=col>P100_R4</th><th scope=col>P100_R5</th><th scope=col>P100_R6</th></tr>\n",
       "</thead>\n",
       "<tbody>\n",
       "\t<tr><td>  4291.219</td><td>  4318.100</td><td>  4224.272</td><td>  4235.357</td><td>  4217.156</td><td>  4327.195</td></tr>\n",
       "\t<tr><td>  8322.060</td><td>  8205.735</td><td>  8143.317</td><td>  8168.844</td><td>  8182.780</td><td>  8315.421</td></tr>\n",
       "\t<tr><td> 22840.756</td><td> 22069.640</td><td> 22277.582</td><td> 22326.049</td><td> 22453.866</td><td> 22554.034</td></tr>\n",
       "\t<tr><td> 62492.053</td><td> 59502.644</td><td> 60968.095</td><td> 60964.324</td><td> 61194.089</td><td> 61027.070</td></tr>\n",
       "\t<tr><td>162660.779</td><td>153145.418</td><td>158849.832</td><td>158419.849</td><td>157870.519</td><td>157288.511</td></tr>\n",
       "\t<tr><td>401194.158</td><td>374456.104</td><td>391698.899</td><td>389505.215</td><td>384475.187</td><td>384811.468</td></tr>\n",
       "</tbody>\n",
       "</table>\n"
      ],
      "text/latex": [
       "A matrix: 6 × 6 of type dbl\n",
       "\\begin{tabular}{llllll}\n",
       " P100\\_R1 & P100\\_R2 & P100\\_R3 & P100\\_R4 & P100\\_R5 & P100\\_R6\\\\\n",
       "\\hline\n",
       "\t   4291.219 &   4318.100 &   4224.272 &   4235.357 &   4217.156 &   4327.195\\\\\n",
       "\t   8322.060 &   8205.735 &   8143.317 &   8168.844 &   8182.780 &   8315.421\\\\\n",
       "\t  22840.756 &  22069.640 &  22277.582 &  22326.049 &  22453.866 &  22554.034\\\\\n",
       "\t  62492.053 &  59502.644 &  60968.095 &  60964.324 &  61194.089 &  61027.070\\\\\n",
       "\t 162660.779 & 153145.418 & 158849.832 & 158419.849 & 157870.519 & 157288.511\\\\\n",
       "\t 401194.158 & 374456.104 & 391698.899 & 389505.215 & 384475.187 & 384811.468\\\\\n",
       "\\end{tabular}\n"
      ],
      "text/markdown": [
       "\n",
       "A matrix: 6 × 6 of type dbl\n",
       "\n",
       "| P100_R1 | P100_R2 | P100_R3 | P100_R4 | P100_R5 | P100_R6 |\n",
       "|---|---|---|---|---|---|\n",
       "|   4291.219 |   4318.100 |   4224.272 |   4235.357 |   4217.156 |   4327.195 |\n",
       "|   8322.060 |   8205.735 |   8143.317 |   8168.844 |   8182.780 |   8315.421 |\n",
       "|  22840.756 |  22069.640 |  22277.582 |  22326.049 |  22453.866 |  22554.034 |\n",
       "|  62492.053 |  59502.644 |  60968.095 |  60964.324 |  61194.089 |  61027.070 |\n",
       "| 162660.779 | 153145.418 | 158849.832 | 158419.849 | 157870.519 | 157288.511 |\n",
       "| 401194.158 | 374456.104 | 391698.899 | 389505.215 | 384475.187 | 384811.468 |\n",
       "\n"
      ],
      "text/plain": [
       "     P100_R1    P100_R2    P100_R3    P100_R4    P100_R5    P100_R6   \n",
       "[1,]   4291.219   4318.100   4224.272   4235.357   4217.156   4327.195\n",
       "[2,]   8322.060   8205.735   8143.317   8168.844   8182.780   8315.421\n",
       "[3,]  22840.756  22069.640  22277.582  22326.049  22453.866  22554.034\n",
       "[4,]  62492.053  59502.644  60968.095  60964.324  61194.089  61027.070\n",
       "[5,] 162660.779 153145.418 158849.832 158419.849 157870.519 157288.511\n",
       "[6,] 401194.158 374456.104 391698.899 389505.215 384475.187 384811.468"
      ]
     },
     "metadata": {},
     "output_type": "display_data"
    }
   ],
   "source": [
    "head(sim_matrix[, 1:6])"
   ]
  },
  {
   "cell_type": "code",
   "execution_count": 133,
   "id": "84c0a56e-d1a3-4f08-9aad-b178080fb947",
   "metadata": {},
   "outputs": [
    {
     "name": "stderr",
     "output_type": "stream",
     "text": [
      "\u001b[36mℹ\u001b[39m Using lambda = 0\n",
      "\n",
      "\u001b[36mℹ\u001b[39m Initializing...\n",
      "\n",
      "\u001b[36mℹ\u001b[39m Computing Karcher mean of 700 functions in SRSF space...\n",
      "\n",
      "\u001b[36mℹ\u001b[39m Entering iteration 1...\n",
      "\n"
     ]
    }
   ],
   "source": [
    "transformed_jfpca <-\n",
    "  prep_training_data(\n",
    "    f = sim_matrix,\n",
    "    time = times, \n",
    "    fpca_method = \"jfpca\", # jfPCA\n",
    "    optim_method = \"DPo\" # Optimization algorithm\n",
    "  )"
   ]
  },
  {
   "cell_type": "code",
   "execution_count": 134,
   "id": "09ff6fbd-f744-4dd3-9921-5e82f5b88a63",
   "metadata": {},
   "outputs": [
    {
     "name": "stdout",
     "output_type": "stream",
     "text": [
      "[1] 3\n",
      "[1] \"alignment\" \"fpca_type\" \"fpca_res\" \n",
      "Has fpca_res: TRUE \n"
     ]
    }
   ],
   "source": [
    "print(length(transformed_jfpca))\n",
    "print(names(transformed_jfpca))\n",
    "cat(\"Has fpca_res:\", \"fpca_res\" %in% names(transformed_jfpca), \"\\n\")"
   ]
  },
  {
   "cell_type": "markdown",
   "id": "5a179775-dfa1-4461-827c-315e575717e9",
   "metadata": {},
   "source": [
    "## Plotting"
   ]
  },
  {
   "cell_type": "code",
   "execution_count": 137,
   "id": "64532582-81c9-49c5-bae6-e3746d448008",
   "metadata": {},
   "outputs": [
    {
     "data": {
      "image/png": "[encoded data removed]",
      "text/plain": [
       "plot without title"
      ]
     },
     "metadata": {
      "image/png": {
       "height": 420,
       "width": 420
      }
     },
     "output_type": "display_data"
    }
   ],
   "source": [
    "# Plot first 3 joint functional principal components\n",
    "plot_pc_directions(\n",
    "  fpcs = 1:3,                    # Plot PC 1 to 3\n",
    "  fdasrvf = transformed_jfpca$fpca_res,  # FPCA results from training\n",
    "  fpca_method = \"jfpca\",         # Joint functional PCA method\n",
    "  times = times,                 # Time vector for x-axis\n",
    "  digits = 1,                    # Round variance % to 1 decimal\n",
    "  nrow = 3,                      # Arrange in 3 rows (one PC per row)\n",
    "  alpha = 0.8,                   # Line transparency\n",
    "  linesizes = c(0.5, 0.7, 1.0, 0.7, 0.5)  # Line widths: thin-thick-thin pattern\n",
    ")"
   ]
  },
  {
   "cell_type": "code",
   "execution_count": 140,
   "id": "41db0a3a-ca02-40ce-941b-415b06dfa86e",
   "metadata": {},
   "outputs": [
    {
     "name": "stderr",
     "output_type": "stream",
     "text": [
      "\u001b[1m\u001b[22mIgnoring unknown labels:\n",
      "\u001b[36m•\u001b[39m \u001b[32mlinewidth\u001b[39m : \u001b[34m\"\"\u001b[39m\n"
     ]
    },
    {
     "data": {
      "image/png": "[encoded data removed]",
      "text/plain": [
       "plot without title"
      ]
     },
     "metadata": {
      "image/png": {
       "height": 420,
       "width": 420
      }
     },
     "output_type": "display_data"
    }
   ],
   "source": [
    "# Plot the differences between jfPCs and the Karcher Mean\n",
    "plot_pc_diffs(\n",
    "  fpcs = 1:3,                                   # Plot the first 3 principal components\n",
    "  fdasrvf = transformed_jfpca$fpca_res,         # FPCA results from the training step\n",
    "  fpca_method = \"jfpca\",                        # Use the Joint fPCA method\n",
    "  times = times,                                # Time (or wavenumber) axis\n",
    "  digits = 1,                                   # Round the explained variance to 1 decimal place\n",
    "  nrow = 3,                                     # Arrange 1 PC per row\n",
    "  alpha = 0.8,                                  # Line transparency\n",
    "  alpha_fill = 0.25,                            # Transparency level for the filled ribbons\n",
    "  linesizes = c(0.5, 0.7, 1.0, 0.7, 0.5),       # Line thickness pattern (thin–thick–thin)\n",
    "  mean_linesize = 0.7,                          # Line width for the zero (mean) reference line\n",
    "  linetype = TRUE,                              # Use dashed lines for ±SD curves\n",
    "  freey = FALSE                                 # Keep a fixed y-axis scale across all facets\n",
    ")"
   ]
  },
  {
   "cell_type": "code",
   "execution_count": null,
   "id": "894cce8d-060c-4f22-9056-058fcca00e31",
   "metadata": {},
   "outputs": [],
   "source": []
  }
 ],
 "metadata": {
  "kernelspec": {
   "display_name": "R",
   "language": "R",
   "name": "ir"
  },
  "language_info": {
   "codemirror_mode": "r",
   "file_extension": ".r",
   "mimetype": "text/x-r-source",
   "name": "R",
   "pygments_lexer": "r",
   "version": "4.5.1"
  }
 },
 "nbformat": 4,
 "nbformat_minor": 5
}
