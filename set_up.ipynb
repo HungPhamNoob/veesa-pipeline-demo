{
 "cells": [
  {
   "cell_type": "markdown",
   "id": "d583404d-c3f0-476a-bd19-78924a5f5d36",
   "metadata": {},
   "source": [
    "# Set up for full Veesa pepline (Grid-Search + CV)"
   ]
  },
  {
   "cell_type": "code",
   "execution_count": 112,
   "id": "5efb960d-16b8-40d5-963a-ff5e4aef5d22",
   "metadata": {},
   "outputs": [],
   "source": [
    "# Set up noise for bad model illustration\n",
    "noise <- 0\n",
    "\n",
    "# Set up number of elements to be smoothed with window_size = 3\n",
    "k_value <- 10\n",
    "\n",
    "# Set up k-fold for train and validation set\n",
    "k_folds_value = 5\n",
    "\n",
    "# Set up number of trees for Random forest in k-fold\n",
    "trees_list_values <- c(50, 100, 300, 500)\n",
    "\n",
    "# Set up PCs for training model in k-fold\n",
    "K_set_values <- c(10, 20, 30, 50) \n",
    "\n",
    "# Set up metric \n",
    "# metric_name <- \"accuracy\" # \"logloss\"\n",
    "metric_name <- \"logloss\" # \"accuracy\""
   ]
  },
  {
   "cell_type": "code",
   "execution_count": null,
   "id": "fdb8c106-1917-4d3c-b211-0bc0e4631dd9",
   "metadata": {},
   "outputs": [],
   "source": []
  }
 ],
 "metadata": {
  "kernelspec": {
   "display_name": "R",
   "language": "R",
   "name": "ir"
  },
  "language_info": {
   "codemirror_mode": "r",
   "file_extension": ".r",
   "mimetype": "text/x-r-source",
   "name": "R",
   "pygments_lexer": "r",
   "version": "4.5.1"
  }
 },
 "nbformat": 4,
 "nbformat_minor": 5
}
